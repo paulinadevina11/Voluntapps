{
  "cells": [
    {
      "cell_type": "markdown",
      "id": "e745594b",
      "metadata": {
        "id": "e745594b"
      },
      "source": [
        "# **Voluntapps - Platform Penghubung Relawan dengan Proyek Volunteer**"
      ]
    },
    {
      "cell_type": "markdown",
      "id": "05608655",
      "metadata": {
        "id": "05608655"
      },
      "source": [
        "**Tujuan Proyek**\n",
        "1. Memberikan kemudahan bagi para volunteer dalam mengakses proyek kerja sosial yang ada di wilayah Indonesia.\n",
        "2. Mendukung Organisasi dalam menemukan relawan yang memiliki kemampuan yang relevan dengan yang dibutuhkan.\n",
        "3. Menjadikan platform ini sarana edukasi bagi generasi muda Indonesia dalam meningkatkan keterlibatan sosial melalui kegiatan relawan.\n",
        "\n",
        "**Rumusan Masalah**\n",
        "1. Dalam kegiatan kuliah, sebagian besar perguruan tinggi (baik negri maupun swasta) memiliki syarat lulus **Volunteer**, Voluntapps bisa membantu mempermudah para mahasiswa dalam mencari tempat volunteer yang relevan dengan kompetensi yang mereka miliki.\n",
        "2. Masih banyak mahasiswa yang kesulitan dalam mencari tempat volunteer di daerah yang mereka inginkan, dan juga yang sesuai dengan kemampuan yang mereka miliki.\n",
        "\n",
        "**Informasi Dataset**\n",
        "\n",
        "Dataset ini diambil melalui https://github.com/junaediakbar/Capstone-Bangkit-2022-Relasia/blob/master/Machine%20Learning/indorelawan.csv dengan jumlah baris 371, dengan detail kolom:\n",
        "1. **nomor** = Nomor urut (index)\n",
        "2. **nama** = Nama organisasi atau proyek relawan\n",
        "3. **keahlian 1** = Keahlian utama yang dibutuhkan proyek\n",
        "4. **keahlian 2** = Keahlian tambahan\n",
        "5. **lokasi** = Lokasi proyek relawan (kota + provinsi)\n",
        "\n",
        "**Fitur-fitur**\n",
        "1. **Smart Matching** = Digunakan untuk mencocokkan data relawan dengan keahlian yang dibutuhkan proyek sosial menggunakan TF-IDF Smart Matching\n",
        "2. **Regression** = Memprediksi skor kecocokan antara data relawan dengan proyek sosial\n",
        "3. **Clustering** = Mengelompokkan proyek berdasarkan lokasi terdekat → cocok untuk saran lintas kota\n",
        "4. **Neural Colaborative Filtering** = User menginput data (sebagai volunteer), kemudian di cocokkan dengan keahlian yang dibutuhkan dalam proyek sosial"
      ]
    },
    {
      "cell_type": "markdown",
      "id": "6d974c5a",
      "metadata": {
        "id": "6d974c5a"
      },
      "source": [
        "# Import Library"
      ]
    },
    {
      "cell_type": "code",
      "execution_count": 29,
      "id": "fdf4eadd",
      "metadata": {
        "id": "fdf4eadd"
      },
      "outputs": [],
      "source": [
        "import pandas as pd\n",
        "import numpy as np\n",
        "import matplotlib.pyplot as plt\n",
        "import seaborn as sns\n",
        "from wordcloud import WordCloud\n",
        "from sklearn.feature_extraction.text import TfidfVectorizer, CountVectorizer\n",
        "from sklearn.metrics.pairwise import cosine_similarity\n",
        "from sklearn.cluster import KMeans\n",
        "from sklearn.decomposition import TruncatedSVD\n",
        "from sklearn.model_selection import train_test_split\n",
        "from sklearn.ensemble import RandomForestClassifier\n",
        "from sklearn.linear_model import LinearRegression\n",
        "from sklearn.ensemble import RandomForestRegressor\n",
        "from sklearn.metrics import mean_squared_error, confusion_matrix, accuracy_score\n",
        "from sklearn.preprocessing import LabelEncoder, OneHotEncoder\n",
        "\n",
        "from tensorflow.keras.models import Model\n",
        "from tensorflow.keras.layers import Input, Embedding, Flatten, Dot, Dense, Concatenate\n",
        "from tensorflow.keras.optimizers import Adam\n",
        "\n",
        "import warnings\n",
        "warnings.filterwarnings(\"ignore\")\n"
      ]
    },
    {
      "cell_type": "markdown",
      "id": "01408257",
      "metadata": {
        "id": "01408257"
      },
      "source": [
        "# Data Preparation"
      ]
    },
    {
      "cell_type": "code",
      "execution_count": 30,
      "id": "6a9f286e",
      "metadata": {
        "colab": {
          "base_uri": "https://localhost:8080/",
          "height": 206
        },
        "id": "6a9f286e",
        "outputId": "3367ddc0-c648-409b-d266-eccebfb761c8"
      },
      "outputs": [
        {
          "data": {
            "text/html": [
              "<div>\n",
              "<style scoped>\n",
              "    .dataframe tbody tr th:only-of-type {\n",
              "        vertical-align: middle;\n",
              "    }\n",
              "\n",
              "    .dataframe tbody tr th {\n",
              "        vertical-align: top;\n",
              "    }\n",
              "\n",
              "    .dataframe thead th {\n",
              "        text-align: right;\n",
              "    }\n",
              "</style>\n",
              "<table border=\"1\" class=\"dataframe\">\n",
              "  <thead>\n",
              "    <tr style=\"text-align: right;\">\n",
              "      <th></th>\n",
              "      <th>nomor</th>\n",
              "      <th>nama</th>\n",
              "      <th>keahlian 1</th>\n",
              "      <th>keahlian 2</th>\n",
              "      <th>lokasi</th>\n",
              "    </tr>\n",
              "  </thead>\n",
              "  <tbody>\n",
              "    <tr>\n",
              "      <th>0</th>\n",
              "      <td>1</td>\n",
              "      <td>Karbon Biru</td>\n",
              "      <td>Lingkungan</td>\n",
              "      <td>Pengembangan Masyarakat</td>\n",
              "      <td>Kota Surabaya, Jawa Timur</td>\n",
              "    </tr>\n",
              "    <tr>\n",
              "      <th>1</th>\n",
              "      <td>2</td>\n",
              "      <td>Rumah Sandar</td>\n",
              "      <td>Pendidikan</td>\n",
              "      <td>Pengembangan Anak Muda</td>\n",
              "      <td>Kota Depok, Jawa Barat</td>\n",
              "    </tr>\n",
              "    <tr>\n",
              "      <th>2</th>\n",
              "      <td>3</td>\n",
              "      <td>Yayasan PERSEPSI</td>\n",
              "      <td>NaN</td>\n",
              "      <td>NaN</td>\n",
              "      <td>Kabupaten Klaten, Jawa Tengah</td>\n",
              "    </tr>\n",
              "    <tr>\n",
              "      <th>3</th>\n",
              "      <td>4</td>\n",
              "      <td>Atma Jaya Consultinh Community</td>\n",
              "      <td>Kepemimpinan &amp; Organisasi</td>\n",
              "      <td>Pengembangan Anak Muda</td>\n",
              "      <td>Kota Administrasi Jakarta Selatan, DKI Jakarta</td>\n",
              "    </tr>\n",
              "    <tr>\n",
              "      <th>4</th>\n",
              "      <td>5</td>\n",
              "      <td>BAZNAS Kota Bandung</td>\n",
              "      <td>Pengembangan Masyarakat</td>\n",
              "      <td>Kesehatan</td>\n",
              "      <td>Kota Bandung, Jawa Barat</td>\n",
              "    </tr>\n",
              "  </tbody>\n",
              "</table>\n",
              "</div>"
            ],
            "text/plain": [
              "   nomor                            nama                 keahlian 1  \\\n",
              "0      1                     Karbon Biru                 Lingkungan   \n",
              "1      2                    Rumah Sandar                 Pendidikan   \n",
              "2      3                Yayasan PERSEPSI                        NaN   \n",
              "3      4  Atma Jaya Consultinh Community  Kepemimpinan & Organisasi   \n",
              "4      5             BAZNAS Kota Bandung    Pengembangan Masyarakat   \n",
              "\n",
              "                keahlian 2                                          lokasi  \n",
              "0  Pengembangan Masyarakat                       Kota Surabaya, Jawa Timur  \n",
              "1   Pengembangan Anak Muda                          Kota Depok, Jawa Barat  \n",
              "2                      NaN                   Kabupaten Klaten, Jawa Tengah  \n",
              "3   Pengembangan Anak Muda  Kota Administrasi Jakarta Selatan, DKI Jakarta  \n",
              "4                Kesehatan                        Kota Bandung, Jawa Barat  "
            ]
          },
          "execution_count": 30,
          "metadata": {},
          "output_type": "execute_result"
        }
      ],
      "source": [
        "df = pd.read_csv(\"indorelawan.csv\")\n",
        "df.head()"
      ]
    },
    {
      "cell_type": "markdown",
      "id": "3c766f7d",
      "metadata": {
        "id": "3c766f7d"
      },
      "source": [
        "# Exploratory Data Analysis"
      ]
    },
    {
      "cell_type": "code",
      "execution_count": 31,
      "id": "c7d80c9d",
      "metadata": {
        "colab": {
          "base_uri": "https://localhost:8080/",
          "height": 300
        },
        "id": "c7d80c9d",
        "outputId": "3281dfc0-5068-495a-e5aa-c4d509f63439"
      },
      "outputs": [
        {
          "data": {
            "text/html": [
              "<div>\n",
              "<style scoped>\n",
              "    .dataframe tbody tr th:only-of-type {\n",
              "        vertical-align: middle;\n",
              "    }\n",
              "\n",
              "    .dataframe tbody tr th {\n",
              "        vertical-align: top;\n",
              "    }\n",
              "\n",
              "    .dataframe thead th {\n",
              "        text-align: right;\n",
              "    }\n",
              "</style>\n",
              "<table border=\"1\" class=\"dataframe\">\n",
              "  <thead>\n",
              "    <tr style=\"text-align: right;\">\n",
              "      <th></th>\n",
              "      <th>nomor</th>\n",
              "    </tr>\n",
              "  </thead>\n",
              "  <tbody>\n",
              "    <tr>\n",
              "      <th>count</th>\n",
              "      <td>371.000000</td>\n",
              "    </tr>\n",
              "    <tr>\n",
              "      <th>mean</th>\n",
              "      <td>186.000000</td>\n",
              "    </tr>\n",
              "    <tr>\n",
              "      <th>std</th>\n",
              "      <td>107.242715</td>\n",
              "    </tr>\n",
              "    <tr>\n",
              "      <th>min</th>\n",
              "      <td>1.000000</td>\n",
              "    </tr>\n",
              "    <tr>\n",
              "      <th>25%</th>\n",
              "      <td>93.500000</td>\n",
              "    </tr>\n",
              "    <tr>\n",
              "      <th>50%</th>\n",
              "      <td>186.000000</td>\n",
              "    </tr>\n",
              "    <tr>\n",
              "      <th>75%</th>\n",
              "      <td>278.500000</td>\n",
              "    </tr>\n",
              "    <tr>\n",
              "      <th>max</th>\n",
              "      <td>371.000000</td>\n",
              "    </tr>\n",
              "  </tbody>\n",
              "</table>\n",
              "</div>"
            ],
            "text/plain": [
              "            nomor\n",
              "count  371.000000\n",
              "mean   186.000000\n",
              "std    107.242715\n",
              "min      1.000000\n",
              "25%     93.500000\n",
              "50%    186.000000\n",
              "75%    278.500000\n",
              "max    371.000000"
            ]
          },
          "execution_count": 31,
          "metadata": {},
          "output_type": "execute_result"
        }
      ],
      "source": [
        "df.describe()"
      ]
    },
    {
      "cell_type": "code",
      "execution_count": 32,
      "id": "e82d6edd",
      "metadata": {
        "colab": {
          "base_uri": "https://localhost:8080/"
        },
        "id": "e82d6edd",
        "outputId": "e3d2606e-26b2-42b3-cb28-58a7a9cb6249"
      },
      "outputs": [
        {
          "name": "stdout",
          "output_type": "stream",
          "text": [
            "<class 'pandas.core.frame.DataFrame'>\n",
            "RangeIndex: 371 entries, 0 to 370\n",
            "Data columns (total 5 columns):\n",
            " #   Column      Non-Null Count  Dtype \n",
            "---  ------      --------------  ----- \n",
            " 0   nomor       371 non-null    int64 \n",
            " 1   nama        371 non-null    object\n",
            " 2   keahlian 1  370 non-null    object\n",
            " 3   keahlian 2  370 non-null    object\n",
            " 4   lokasi      371 non-null    object\n",
            "dtypes: int64(1), object(4)\n",
            "memory usage: 14.6+ KB\n"
          ]
        }
      ],
      "source": [
        "df.info()"
      ]
    },
    {
      "cell_type": "code",
      "execution_count": 33,
      "id": "5c508842",
      "metadata": {
        "id": "5c508842"
      },
      "outputs": [],
      "source": [
        "df['keahlian 1'] = df['keahlian 1'].str.lower()\n",
        "df['keahlian 2'] = df['keahlian 2'].str.lower()\n",
        "df['lokasi'] = df['lokasi'].str.lower()\n",
        "\n",
        "all_skills = pd.concat([df['keahlian 1'], df['keahlian 2']]).dropna()\n",
        "skill_counts = all_skills.value_counts().head(10)"
      ]
    },
    {
      "cell_type": "markdown",
      "id": "ef9509de",
      "metadata": {
        "id": "ef9509de"
      },
      "source": [
        "**Top Skills yang dibutuhkan dalam Volunteer**"
      ]
    },
    {
      "cell_type": "code",
      "execution_count": 34,
      "id": "70b4b3c4",
      "metadata": {
        "colab": {
          "base_uri": "https://localhost:8080/",
          "height": 507
        },
        "id": "70b4b3c4",
        "outputId": "e502ed29-f758-4b17-9a44-f81af6439a7b"
      },
      "outputs": [
        {
          "data": {
            "image/png": "[encoded data removed]",
            "text/plain": [
              "<Figure size 1000x500 with 1 Axes>"
            ]
          },
          "metadata": {},
          "output_type": "display_data"
        }
      ],
      "source": [
        "plt.figure(figsize=(10,5))\n",
        "sns.barplot(x=skill_counts.values, y=skill_counts.index, palette='viridis')\n",
        "plt.title('Top 10 Keahlian yang Dibutuhkan Proyek Sosial')\n",
        "plt.xlabel('Jumlah Proyek')\n",
        "plt.ylabel('Keahlian')\n",
        "plt.tight_layout()\n",
        "plt.show()"
      ]
    },
    {
      "cell_type": "markdown",
      "id": "d8862cda",
      "metadata": {
        "id": "d8862cda"
      },
      "source": [
        "**Analisis Lokasi**"
      ]
    },
    {
      "cell_type": "code",
      "execution_count": 35,
      "id": "18422bbc",
      "metadata": {
        "colab": {
          "base_uri": "https://localhost:8080/",
          "height": 507
        },
        "id": "18422bbc",
        "outputId": "281ff789-4961-43d1-f522-850726757482"
      },
      "outputs": [
        {
          "data": {
            "image/png": "[encoded data removed]",
            "text/plain": [
              "<Figure size 1000x500 with 1 Axes>"
            ]
          },
          "metadata": {},
          "output_type": "display_data"
        }
      ],
      "source": [
        "lokasi_counts = df['lokasi'].value_counts().head(10)\n",
        "plt.figure(figsize=(10,5))\n",
        "sns.barplot(x=lokasi_counts.values, y=lokasi_counts.index, palette='magma')\n",
        "plt.title('Top 10 Lokasi Proyek Sosial')\n",
        "plt.xlabel('Jumlah Proyek')\n",
        "plt.ylabel('Lokasi')\n",
        "plt.tight_layout()\n",
        "plt.show()"
      ]
    },
    {
      "cell_type": "markdown",
      "id": "39f8bac0",
      "metadata": {
        "id": "39f8bac0"
      },
      "source": [
        "# Hasil Analisis Dataset Sementara"
      ]
    },
    {
      "cell_type": "markdown",
      "id": "50f6bb9e",
      "metadata": {
        "id": "50f6bb9e"
      },
      "source": [
        "1. Pada grafik pertama mengenai top 10 keahlian yang dibutuhkan proyek sosial, kita mengetahui bahwa skills yang paling dibutuhkan dalam volunteer berdasarkan dataset indorelawan adalah pendidikan, diikuti oleh pengembangan masyarakat hingga sains dan teknologi pada peringkat ke-10. Ini berarti, relawan dengan kompetensi dalam bidang-bidang tersebut memiliki peluang lebih besar untuk dapat diterima dalam proyek sosial dalam indorelawan.\n",
        "\n",
        "2. Pada grafik kedua mengenai top 10 lokasi proyek sosial, kita mengetahui bahwa wilayah yang paling banyak memiliki \"lowongan\" untuk para relawan didominasi oleh daerah jawa, sedangkan yang non-jawa hanyalah Kota Medan dan juga Kota Denpasar. Ini berarti, relawan yang berada disekitar daerah-daerah tersebut memiliki peluang proyek sosial lebih besar daripada yang diluar daerah-daerah tersebut."
      ]
    },
    {
      "cell_type": "markdown",
      "id": "f48cda28",
      "metadata": {
        "id": "f48cda28"
      },
      "source": [
        "# Preprocessing"
      ]
    },
    {
      "cell_type": "code",
      "execution_count": 36,
      "id": "e92641ea",
      "metadata": {
        "id": "e92641ea"
      },
      "outputs": [],
      "source": [
        "df_clean = df.dropna(subset=[\"keahlian 1\", \"keahlian 2\"])\n",
        "df_clean[\"keahlian\"] = df_clean[\"keahlian 1\"] + \", \" + df_clean[\"keahlian 2\"]\n",
        "df_clean[\"lokasi_clean\"] = df_clean[\"lokasi\"].str.lower().str.replace(r'[^a-zA-Z\\s]', '', regex=True)\n",
        "\n",
        "volunteer_testing = {\n",
        "    \"nama\": \"Andi\",\n",
        "    \"lokasi\": \"Kota Depok, Jawa Barat\",\n",
        "    \"keahlian\": \"Pendidikan, Pengembangan Anak Muda\",\n",
        "    \"minat\": \"Pendidikan\",\n",
        "    \"ketersediaan\": \"Weekend\"\n",
        "}"
      ]
    },
    {
      "cell_type": "markdown",
      "id": "88e5cdce",
      "metadata": {
        "id": "88e5cdce"
      },
      "source": [
        "# Smart Matching"
      ]
    },
    {
      "cell_type": "code",
      "execution_count": 37,
      "id": "ce6434c2",
      "metadata": {
        "colab": {
          "base_uri": "https://localhost:8080/",
          "height": 206
        },
        "id": "ce6434c2",
        "outputId": "c46e4a4f-1e02-48bd-ba78-8358ceff9383"
      },
      "outputs": [
        {
          "data": {
            "text/plain": [
              "['tfidf_model/similarity_scores.pkl']"
            ]
          },
          "execution_count": 37,
          "metadata": {},
          "output_type": "execute_result"
        }
      ],
      "source": [
        "import joblib\n",
        "import os\n",
        "\n",
        "tfidf = TfidfVectorizer()\n",
        "project_skills_tfidf = tfidf.fit_transform(df_clean[\"keahlian\"])\n",
        "volunteer_skill_tfidf = tfidf.transform([volunteer_testing[\"keahlian\"]])\n",
        "\n",
        "similarity_scores = cosine_similarity(volunteer_skill_tfidf, project_skills_tfidf).flatten()\n",
        "df_clean[\"tfidf_smart_score\"] = similarity_scores\n",
        "\n",
        "top_tfidf_matches = df_clean.sort_values(\"tfidf_smart_score\", ascending=False)[[\"nama\", \"keahlian\", \"tfidf_smart_score\"]].head(5)\n",
        "top_tfidf_matches\n",
        "\n",
        "os.makedirs('tfidf_model', exist_ok=True)\n",
        "joblib.dump(tfidf, 'tfidf_model/vectorizer.pkl')\n",
        "joblib.dump(project_skills_tfidf, 'tfidf_model/project_tfidf_matrix.pkl')\n",
        "joblib.dump(similarity_scores, 'tfidf_model/similarity_scores.pkl')  # opsional"
      ]
    },
    {
      "cell_type": "markdown",
      "id": "415ee8ba",
      "metadata": {
        "id": "415ee8ba"
      },
      "source": [
        "# Regression"
      ]
    },
    {
      "cell_type": "code",
      "execution_count": 38,
      "id": "44cb40f8",
      "metadata": {
        "id": "44cb40f8"
      },
      "outputs": [],
      "source": [
        "df_clean[\"dummy_availability\"] = np.random.uniform(0.5, 1.0, size=len(df_clean))\n",
        "df_clean[\"total_score\"] = 0.7 * df_clean[\"tfidf_smart_score\"] + 0.3 * df_clean[\"dummy_availability\"]\n",
        "X = df_clean[[\"tfidf_smart_score\", \"dummy_availability\"]]\n",
        "y = df_clean[\"total_score\"]\n",
        "\n",
        "X_train, X_test, y_train, y_test = train_test_split(X, y, test_size=0.2, random_state=42)"
      ]
    },
    {
      "cell_type": "markdown",
      "id": "1a568698",
      "metadata": {
        "id": "1a568698"
      },
      "source": [
        "**Linear Regression**"
      ]
    },
    {
      "cell_type": "code",
      "execution_count": 39,
      "id": "c16b0dc0",
      "metadata": {
        "colab": {
          "base_uri": "https://localhost:8080/"
        },
        "id": "c16b0dc0",
        "outputId": "43995b45-1a3a-4eb9-d32d-f8968f50cac0"
      },
      "outputs": [
        {
          "name": "stdout",
          "output_type": "stream",
          "text": [
            "🔍 Linear Regression:\n",
            "Confusion Matrix:\n",
            " [[50  0]\n",
            " [ 0 24]]\n",
            "Accuracy: 1.0\n"
          ]
        },
        {
          "data": {
            "text/plain": [
              "['lr_model/similarity_scores.pkl']"
            ]
          },
          "execution_count": 39,
          "metadata": {},
          "output_type": "execute_result"
        }
      ],
      "source": [
        "import joblib\n",
        "import os\n",
        "\n",
        "lr_model = LinearRegression()\n",
        "lr_model.fit(X_train, y_train)\n",
        "lr_preds = lr_model.predict(X_test)\n",
        "\n",
        "y_test_class = (y_test >= 0.5).astype(int)\n",
        "lr_preds_class = (lr_preds >= 0.5).astype(int)\n",
        "\n",
        "cm_lr = confusion_matrix(y_test_class, lr_preds_class)\n",
        "acc_lr = accuracy_score(y_test_class, lr_preds_class)\n",
        "\n",
        "print(\"🔍 Linear Regression:\")\n",
        "print(\"Confusion Matrix:\\n\", cm_lr)\n",
        "print(\"Accuracy:\", round(acc_lr, 3))\n",
        "\n",
        "os.makedirs('lr_model', exist_ok=True)\n",
        "joblib.dump(lr_model, 'lr_model/lr_model.pkl')\n",
        "joblib.dump(tfidf, 'lr_model/vectorizer.pkl')\n",
        "joblib.dump(project_skills_tfidf, 'lr_model/project_tfidf_matrix.pkl')\n",
        "joblib.dump(similarity_scores, 'lr_model/similarity_scores.pkl')"
      ]
    },
    {
      "cell_type": "markdown",
      "id": "372e9554",
      "metadata": {
        "id": "372e9554"
      },
      "source": [
        "**Random Forest**"
      ]
    },
    {
      "cell_type": "code",
      "execution_count": 40,
      "id": "2e11f402",
      "metadata": {
        "colab": {
          "base_uri": "https://localhost:8080/"
        },
        "id": "2e11f402",
        "outputId": "ffb9caed-008f-4980-ee6d-823dcf55022c"
      },
      "outputs": [
        {
          "name": "stdout",
          "output_type": "stream",
          "text": [
            "\n",
            "🌲 Random Forest Regressor:\n",
            "Confusion Matrix:\n",
            " [[50  0]\n",
            " [ 0 24]]\n",
            "Accuracy: 1.0\n"
          ]
        },
        {
          "data": {
            "text/plain": [
              "['rf_model/similarity_scores.pkl']"
            ]
          },
          "execution_count": 40,
          "metadata": {},
          "output_type": "execute_result"
        }
      ],
      "source": [
        "rf_model = RandomForestRegressor(random_state=42)\n",
        "rf_model.fit(X_train, y_train)\n",
        "rf_preds = rf_model.predict(X_test)\n",
        "\n",
        "y_test_class = (y_test >= 0.5).astype(int)\n",
        "rf_preds_class = (rf_preds >= 0.5).astype(int)\n",
        "\n",
        "cm_rf = confusion_matrix(y_test_class, rf_preds_class)\n",
        "acc_rf = accuracy_score(y_test_class, rf_preds_class)\n",
        "\n",
        "print(\"\\n🌲 Random Forest Regressor:\")\n",
        "print(\"Confusion Matrix:\\n\", cm_rf)\n",
        "print(\"Accuracy:\", round(acc_rf, 3))\n",
        "\n",
        "os.makedirs('rf_model', exist_ok=True)\n",
        "joblib.dump(rf_model, 'rf_model/rf_model.pkl')\n",
        "joblib.dump(tfidf, 'rf_model/vectorizer.pkl')\n",
        "joblib.dump(project_skills_tfidf, 'rf_model/project_tfidf_matrix.pkl')\n",
        "joblib.dump(similarity_scores, 'rf_model/similarity_scores.pkl')"
      ]
    },
    {
      "cell_type": "markdown",
      "id": "1875b02c",
      "metadata": {
        "id": "1875b02c"
      },
      "source": [
        "# Clustering"
      ]
    },
    {
      "cell_type": "code",
      "execution_count": 41,
      "id": "2f0dd93d",
      "metadata": {
        "colab": {
          "base_uri": "https://localhost:8080/",
          "height": 206
        },
        "id": "2f0dd93d",
        "outputId": "2d7cfd70-5706-4cd7-d710-757deb31cefb"
      },
      "outputs": [
        {
          "data": {
            "text/html": [
              "<div>\n",
              "<style scoped>\n",
              "    .dataframe tbody tr th:only-of-type {\n",
              "        vertical-align: middle;\n",
              "    }\n",
              "\n",
              "    .dataframe tbody tr th {\n",
              "        vertical-align: top;\n",
              "    }\n",
              "\n",
              "    .dataframe thead th {\n",
              "        text-align: right;\n",
              "    }\n",
              "</style>\n",
              "<table border=\"1\" class=\"dataframe\">\n",
              "  <thead>\n",
              "    <tr style=\"text-align: right;\">\n",
              "      <th></th>\n",
              "      <th>Cluster</th>\n",
              "      <th>Jumlah Proyek</th>\n",
              "    </tr>\n",
              "  </thead>\n",
              "  <tbody>\n",
              "    <tr>\n",
              "      <th>0</th>\n",
              "      <td>0</td>\n",
              "      <td>31</td>\n",
              "    </tr>\n",
              "    <tr>\n",
              "      <th>1</th>\n",
              "      <td>1</td>\n",
              "      <td>33</td>\n",
              "    </tr>\n",
              "    <tr>\n",
              "      <th>2</th>\n",
              "      <td>2</td>\n",
              "      <td>32</td>\n",
              "    </tr>\n",
              "    <tr>\n",
              "      <th>3</th>\n",
              "      <td>3</td>\n",
              "      <td>138</td>\n",
              "    </tr>\n",
              "    <tr>\n",
              "      <th>4</th>\n",
              "      <td>4</td>\n",
              "      <td>136</td>\n",
              "    </tr>\n",
              "  </tbody>\n",
              "</table>\n",
              "</div>"
            ],
            "text/plain": [
              "   Cluster  Jumlah Proyek\n",
              "0        0             31\n",
              "1        1             33\n",
              "2        2             32\n",
              "3        3            138\n",
              "4        4            136"
            ]
          },
          "execution_count": 41,
          "metadata": {},
          "output_type": "execute_result"
        }
      ],
      "source": [
        "vectorizer = TfidfVectorizer()\n",
        "location_vectors = vectorizer.fit_transform(df_clean[\"lokasi_clean\"])\n",
        "kmeans = KMeans(n_clusters=5, random_state=42, n_init='auto')\n",
        "clusters = kmeans.fit_predict(location_vectors)\n",
        "df_clean[\"cluster\"] = clusters\n",
        "\n",
        "cluster_summary = df_clean[\"cluster\"].value_counts().sort_index()\n",
        "cluster_summary_df = pd.DataFrame({\n",
        "    \"Cluster\": cluster_summary.index,\n",
        "    \"Jumlah Proyek\": cluster_summary.values\n",
        "})\n",
        "cluster_summary_df"
      ]
    },
    {
      "cell_type": "markdown",
      "id": "0d0413ad",
      "metadata": {
        "id": "0d0413ad"
      },
      "source": [
        "# Result Analysis Sementara"
      ]
    },
    {
      "cell_type": "markdown",
      "id": "09eb1812",
      "metadata": {
        "id": "09eb1812"
      },
      "source": [
        "Berdasarkan 3 Fitur diatas, kita mengetahui bahwa:\n",
        "\n",
        "1. Smart Matching (dengan TF-IDF AI Based) berfungsi untuk mencocokkan keahlian relawan dengan keahlian yang dibutuhkan proyek sosial, menggunakan representasi teks berbasis AI (TF-IDF + cosine similarity). Hasilnya adalah top 5 proyek yang memiliki TF-IDF Score 1.00, yang berarti keahlian relawan sangat relevan dengan proyek-proyek tersebut. Contoh proyeknya adalah Zipmex Troops, IYOIN LC Malang, Lingkar Muda, NAHAWAND ALMAJID BOGOR, dan Youth Gakaxy. Fitur ini bisa memberikan rekomendasi yang sangat personal dan akurat berdasarkan kemampuan relawan, dan juga memungkinkan pencocokan meskipun penulisan keahlian berbeda.\n",
        "\n",
        "2. Model Regression (Linear & Random Forest) digunakan untuk memprediksi skor akhir kecocokan berdasarkan beberapa fitur numerik seperti smart_score dan ketersediaan waktu. Regression digunakan untuk memperkirakan Skor Total Kecocokan antara seorang relawan dan suatu proyek sosial berdasarkan berbagai fitur. Jadi seperti \"Seberapa besar kemungkinan relawan ini cocok secara keseluruhan dengan proyek ini?\". Dari perbandingan kedua model tersebut, saya memilih Random Forest karena non-linear, dan lebih realistis.\n",
        "\n",
        "3. K-Means Clustering pada Voluntapps digunakan untuk mengelompokkan proyek sosial berdasarkan lokasi geografis (berdasarkan teks nama kota), agar relawan mendapatkan saran proyek yang paling dekat dengan domisili mereka. Dengan Clustering, para relawan bisa lebih mudah memilih proyek di lokasi yang mereka inginkan.\n",
        "\n"
      ]
    },
    {
      "cell_type": "markdown",
      "id": "555c2edb",
      "metadata": {
        "id": "555c2edb"
      },
      "source": [
        "# Neural Collaborative Filtering"
      ]
    },
    {
      "cell_type": "code",
      "execution_count": 42,
      "id": "7db8c577",
      "metadata": {
        "colab": {
          "base_uri": "https://localhost:8080/"
        },
        "id": "7db8c577",
        "outputId": "2d73d9d7-b922-47f9-910d-839a92d8bcc2"
      },
      "outputs": [
        {
          "name": "stdout",
          "output_type": "stream",
          "text": [
            "\u001b[1m12/12\u001b[0m \u001b[32m━━━━━━━━━━━━━━━━━━━━\u001b[0m\u001b[37m\u001b[0m \u001b[1m0s\u001b[0m 7ms/step\n"
          ]
        },
        {
          "name": "stderr",
          "output_type": "stream",
          "text": [
            "WARNING:absl:You are saving your model as an HDF5 file via `model.save()` or `keras.saving.save_model(model)`. This file format is considered legacy. We recommend using instead the native Keras format, e.g. `model.save('my_model.keras')` or `keras.saving.save_model(model, 'my_model.keras')`. \n"
          ]
        },
        {
          "data": {
            "text/plain": [
              "['ncf_model/project_ids.pkl']"
            ]
          },
          "execution_count": 42,
          "metadata": {},
          "output_type": "execute_result"
        }
      ],
      "source": [
        "project_encoder = LabelEncoder()\n",
        "df_clean[\"project_id\"] = project_encoder.fit_transform(df_clean[\"nomor\"])\n",
        "\n",
        "volunteer_ids = [0] * len(df_clean)\n",
        "project_ids = df_clean[\"project_id\"].values\n",
        "num_projects = df_clean[\"project_id\"].nunique()\n",
        "\n",
        "user_input = Input(shape=(1,))\n",
        "project_input = Input(shape=(1,))\n",
        "\n",
        "user_embed = Embedding(input_dim=1, output_dim=5)(user_input)\n",
        "project_embed = Embedding(input_dim=num_projects + 1, output_dim=5)(project_input)\n",
        "\n",
        "user_vec = Flatten()(user_embed)\n",
        "project_vec = Flatten()(project_embed)\n",
        "\n",
        "concat = Concatenate()([user_vec, project_vec])\n",
        "dense = Dense(64, activation='relu')(concat)\n",
        "output = Dense(1, activation='sigmoid')(dense)\n",
        "\n",
        "ncf_model = Model([user_input, project_input], output)\n",
        "ncf_model.compile(optimizer=Adam(0.001), loss='binary_crossentropy')\n",
        "\n",
        "labels = np.ones(len(df_clean))\n",
        "\n",
        "ncf_model.fit([np.array(volunteer_ids), project_ids], labels, epochs=5, verbose=0)\n",
        "\n",
        "ncf_preds = ncf_model.predict([np.array(volunteer_ids), project_ids]).flatten()\n",
        "df_clean[\"ncf_score\"] = ncf_preds\n",
        "\n",
        "os.makedirs(\"ncf_model\", exist_ok=True)\n",
        "ncf_model.save(\"ncf_model/ncf_model.h5\")\n",
        "joblib.dump(project_encoder, \"ncf_model/project_encoder.pkl\")\n",
        "joblib.dump(volunteer_ids, \"ncf_model/volunteer_ids.pkl\")\n",
        "joblib.dump(project_ids, \"ncf_model/project_ids.pkl\")"
      ]
    },
    {
      "cell_type": "markdown",
      "id": "fbabee9d",
      "metadata": {
        "id": "fbabee9d"
      },
      "source": [
        "# Input Function"
      ]
    },
    {
      "cell_type": "code",
      "execution_count": null,
      "id": "11a3c5cf",
      "metadata": {
        "colab": {
          "base_uri": "https://localhost:8080/"
        },
        "id": "11a3c5cf",
        "outputId": "5ed787c7-1a2b-4b2b-a49c-c9d617b45ec8"
      },
      "outputs": [],
      "source": [
        "# Ambil daftar unik keahlian dan lokasi\n",
        "all_skills = pd.concat([df_clean[\"keahlian 1\"], df_clean[\"keahlian 2\"]]).dropna().unique()\n",
        "all_skills = sorted(set(skill.strip().lower() for skill in all_skills if isinstance(skill, str)))\n",
        "categories = sorted(set(df_clean[\"keahlian 1\"].dropna().unique()))\n",
        "all_locations = sorted(df_clean[\"lokasi\"].dropna().unique())\n",
        "\n",
        "def rekomendasi_proyek():\n",
        "    print(\"Masukkan data volunteer:\")\n",
        "    nama = input(\"Nama lengkap: \")\n",
        "\n",
        "    print(\"\\nPilih lokasi Anda dari daftar berikut:\")\n",
        "    for i, loc in enumerate(all_locations):\n",
        "        print(f\"{i+1}. {loc}\")\n",
        "    selected_loc = int(input(\"Masukkan nomor lokasi: \")) - 1\n",
        "    lokasi = all_locations[selected_loc]\n",
        "\n",
        "    print(\"\\nPilih keahlian yang kamu miliki dari daftar berikut:\")\n",
        "    for i, skill in enumerate(all_skills):\n",
        "        print(f\"{i+1}. {skill}\")\n",
        "    selected_indices = input(\"Masukkan nomor keahlian (pisahkan dengan koma): \")\n",
        "    selected_skills = [all_skills[int(i)-1] for i in selected_indices.split(\",\")]\n",
        "    keahlian = \", \".join(selected_skills)\n",
        "\n",
        "    print(\"\\nPilih minat/kategori proyek dari daftar berikut:\")\n",
        "    for i, cat in enumerate(categories):\n",
        "        print(f\"{i+1}. {cat}\")\n",
        "    selected_cat = int(input(\"Masukkan nomor kategori: \")) - 1\n",
        "    minat = categories[selected_cat]\n",
        "\n",
        "    volunteer_skill_tfidf = tfidf.transform([keahlian])\n",
        "    similarity_scores = cosine_similarity(volunteer_skill_tfidf, project_skills_tfidf).flatten()\n",
        "    df_clean[\"smart_score\"] = similarity_scores\n",
        "\n",
        "    df_clean[\"dummy_availability\"] = np.random.uniform(0.5, 1.0, size=len(df_clean))\n",
        "    df_clean[\"total_score\"] = 0.7 * df_clean[\"smart_score\"] + 0.3 * df_clean[\"dummy_availability\"]\n",
        "\n",
        "    lokasi_vec = vectorizer.transform([lokasi])\n",
        "    cluster_pred = kmeans.predict(lokasi_vec)[0]\n",
        "    df_clean[\"same_cluster\"] = df_clean[\"cluster\"] == cluster_pred\n",
        "\n",
        "    df_clean[\"final_score\"] = (\n",
        "        0.5 * df_clean[\"smart_score\"] +\n",
        "        0.2 * df_clean[\"total_score\"] +\n",
        "        0.2 * df_clean[\"ncf_score\"] +\n",
        "        0.1 * df_clean[\"same_cluster\"].astype(int)\n",
        "    )\n",
        "    df_clean[\"final_score_pct\"] = df_clean[\"final_score\"] * 100\n",
        "\n",
        "    top_final = df_clean.sort_values(\"final_score\", ascending=False).head(10)\n",
        "\n",
        "    print(\"\\n🎯 === 10 Rekomendasi Proyek Terbaik Untuk Anda ===\")\n",
        "    for idx, row in top_final.iterrows():\n",
        "        print(f\"{top_final.index.get_loc(idx)+1}. {row['nama']} ({row['lokasi']})\")\n",
        "        print(f\"   Keahlian Dibutuhkan : {row['keahlian']}\")\n",
        "        print(f\"   Skor Kecocokan      : {row['final_score_pct']:.1f}%\")\n",
        "        print(\"-\" * 80)\n",
        "\n",
        "rekomendasi_proyek()"
      ]
    }
  ],
  "metadata": {
    "colab": {
      "collapsed_sections": [
        "cd0e3b81"
      ],
      "provenance": []
    },
    "kernelspec": {
      "display_name": "base",
      "language": "python",
      "name": "python3"
    },
    "language_info": {
      "codemirror_mode": {
        "name": "ipython",
        "version": 3
      },
      "file_extension": ".py",
      "mimetype": "text/x-python",
      "name": "python",
      "nbconvert_exporter": "python",
      "pygments_lexer": "ipython3",
      "version": "3.12.7"
    }
  },
  "nbformat": 4,
  "nbformat_minor": 5
}
